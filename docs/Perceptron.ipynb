{
 "cells": [
  {
   "cell_type": "markdown",
   "metadata": {},
   "source": [
    "<div class=\"alert alert-block alert-warning\">  \n",
    "<br>\n",
    "<center><font face=\"Kristen ITC\" size=\"16\">The Perceptron</font></center>\n",
    "<br>\n",
    "</div>"
   ]
  },
  {
   "cell_type": "markdown",
   "metadata": {},
   "source": [
    "<h5> The very first computational model of a neuron was proposed by Warren MuCulloch (neuroscientist) and Walter Pitts (logician) in 1943, by mimicking the functionality of a biological neuron, the model is known as McCulloch–Pitts neuron. the first real-world implementation of the perceptron was done by Cornell Aeronautical Laboratory, psychology researcher Frank Rosenblatt in 1957. The Mark I Perceptron was a machine consisting of 400 photocells that could classify images.</h5>"
   ]
  },
  {
   "cell_type": "markdown",
   "metadata": {},
   "source": [
    "<h4 style=\"font-family: Ink Free;\"><center><b>The perceptron is a one-layer neural network that can classify things into two parts.</b></center></h4>"
   ]
  },
  {
   "cell_type": "markdown",
   "metadata": {},
   "source": [
    "<h4 style=\"font-family: Ink Free;\"><center><b>It is a sigle layer neural network with unit step funtion as an activation funtion</b></center></h4>"
   ]
  },
  {
   "cell_type": "markdown",
   "metadata": {},
   "source": []
  },
  {
   "cell_type": "code",
   "execution_count": null,
   "metadata": {},
   "outputs": [],
   "source": [
    "dbndndfnd"
   ]
  },
  {
   "cell_type": "markdown",
   "metadata": {},
   "source": [
    "!!! info inline end \"Lorem ipsum\"\n",
    "\n",
    "    Lorem ipsum dolor sit amet, consectetur\n",
    "    adipiscing elit. Nulla et euismod nulla.\n",
    "    Curabitur feugiat, tortor non consequat\n",
    "    finibus, justo purus auctor massa, nec\n",
    "    semper lorem quam in massa.\n",
    "\n",
    "??? tensor\n",
    "\n"
   ]
  },
  {
   "cell_type": "markdown",
   "metadata": {},
   "source": [
    "??? note\n",
    "\n",
    "    Lorem ipsum dolor sit amet, consectetur adipiscing elit. Nulla et euismod\n",
    "    nulla. Curabitur feugiat, tortor non consequat finibus, justo purus auctor\n",
    "    massa, nec semper lorem quam in massa."
   ]
  },
  {
   "cell_type": "markdown",
   "metadata": {},
   "source": []
  },
  {
   "cell_type": "markdown",
   "metadata": {},
   "source": []
  }
 ],
 "metadata": {
  "kernelspec": {
   "display_name": "pytorch",
   "language": "python",
   "name": "python3"
  },
  "language_info": {
   "codemirror_mode": {
    "name": "ipython",
    "version": 3
   },
   "file_extension": ".py",
   "mimetype": "text/x-python",
   "name": "python",
   "nbconvert_exporter": "python",
   "pygments_lexer": "ipython3",
   "version": "3.11.9"
  }
 },
 "nbformat": 4,
 "nbformat_minor": 2
}
